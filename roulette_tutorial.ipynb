{
 "cells": [
  {
   "cell_type": "code",
   "execution_count": 81,
   "metadata": {},
   "outputs": [
    {
     "data": {
      "text/html": [
       "<div>\n",
       "<style scoped>\n",
       "    .dataframe tbody tr th:only-of-type {\n",
       "        vertical-align: middle;\n",
       "    }\n",
       "\n",
       "    .dataframe tbody tr th {\n",
       "        vertical-align: top;\n",
       "    }\n",
       "\n",
       "    .dataframe thead th {\n",
       "        text-align: right;\n",
       "    }\n",
       "</style>\n",
       "<table border=\"1\" class=\"dataframe\">\n",
       "  <thead>\n",
       "    <tr style=\"text-align: right;\">\n",
       "      <th></th>\n",
       "      <th>win_count</th>\n",
       "      <th>frequency</th>\n",
       "      <th>prob</th>\n",
       "      <th>payout</th>\n",
       "    </tr>\n",
       "  </thead>\n",
       "  <tbody>\n",
       "    <tr>\n",
       "      <th>1</th>\n",
       "      <td>1</td>\n",
       "      <td>6</td>\n",
       "      <td>0.00006</td>\n",
       "      <td>-18</td>\n",
       "    </tr>\n",
       "    <tr>\n",
       "      <th>2</th>\n",
       "      <td>2</td>\n",
       "      <td>22</td>\n",
       "      <td>0.00022</td>\n",
       "      <td>-16</td>\n",
       "    </tr>\n",
       "    <tr>\n",
       "      <th>3</th>\n",
       "      <td>3</td>\n",
       "      <td>149</td>\n",
       "      <td>0.00149</td>\n",
       "      <td>-14</td>\n",
       "    </tr>\n",
       "    <tr>\n",
       "      <th>4</th>\n",
       "      <td>4</td>\n",
       "      <td>645</td>\n",
       "      <td>0.00645</td>\n",
       "      <td>-12</td>\n",
       "    </tr>\n",
       "    <tr>\n",
       "      <th>5</th>\n",
       "      <td>5</td>\n",
       "      <td>1898</td>\n",
       "      <td>0.01898</td>\n",
       "      <td>-10</td>\n",
       "    </tr>\n",
       "    <tr>\n",
       "      <th>6</th>\n",
       "      <td>6</td>\n",
       "      <td>4345</td>\n",
       "      <td>0.04345</td>\n",
       "      <td>-8</td>\n",
       "    </tr>\n",
       "    <tr>\n",
       "      <th>7</th>\n",
       "      <td>7</td>\n",
       "      <td>8691</td>\n",
       "      <td>0.08691</td>\n",
       "      <td>-6</td>\n",
       "    </tr>\n",
       "    <tr>\n",
       "      <th>8</th>\n",
       "      <td>8</td>\n",
       "      <td>13267</td>\n",
       "      <td>0.13267</td>\n",
       "      <td>-4</td>\n",
       "    </tr>\n",
       "    <tr>\n",
       "      <th>9</th>\n",
       "      <td>9</td>\n",
       "      <td>16825</td>\n",
       "      <td>0.16825</td>\n",
       "      <td>-2</td>\n",
       "    </tr>\n",
       "    <tr>\n",
       "      <th>10</th>\n",
       "      <td>10</td>\n",
       "      <td>17335</td>\n",
       "      <td>0.17335</td>\n",
       "      <td>0</td>\n",
       "    </tr>\n",
       "    <tr>\n",
       "      <th>11</th>\n",
       "      <td>11</td>\n",
       "      <td>15231</td>\n",
       "      <td>0.15231</td>\n",
       "      <td>2</td>\n",
       "    </tr>\n",
       "    <tr>\n",
       "      <th>12</th>\n",
       "      <td>12</td>\n",
       "      <td>10753</td>\n",
       "      <td>0.10753</td>\n",
       "      <td>4</td>\n",
       "    </tr>\n",
       "    <tr>\n",
       "      <th>13</th>\n",
       "      <td>13</td>\n",
       "      <td>6315</td>\n",
       "      <td>0.06315</td>\n",
       "      <td>6</td>\n",
       "    </tr>\n",
       "    <tr>\n",
       "      <th>14</th>\n",
       "      <td>14</td>\n",
       "      <td>3008</td>\n",
       "      <td>0.03008</td>\n",
       "      <td>8</td>\n",
       "    </tr>\n",
       "    <tr>\n",
       "      <th>15</th>\n",
       "      <td>15</td>\n",
       "      <td>1115</td>\n",
       "      <td>0.01115</td>\n",
       "      <td>10</td>\n",
       "    </tr>\n",
       "    <tr>\n",
       "      <th>16</th>\n",
       "      <td>16</td>\n",
       "      <td>308</td>\n",
       "      <td>0.00308</td>\n",
       "      <td>12</td>\n",
       "    </tr>\n",
       "    <tr>\n",
       "      <th>17</th>\n",
       "      <td>17</td>\n",
       "      <td>74</td>\n",
       "      <td>0.00074</td>\n",
       "      <td>14</td>\n",
       "    </tr>\n",
       "    <tr>\n",
       "      <th>18</th>\n",
       "      <td>18</td>\n",
       "      <td>12</td>\n",
       "      <td>0.00012</td>\n",
       "      <td>16</td>\n",
       "    </tr>\n",
       "    <tr>\n",
       "      <th>19</th>\n",
       "      <td>19</td>\n",
       "      <td>1</td>\n",
       "      <td>0.00001</td>\n",
       "      <td>18</td>\n",
       "    </tr>\n",
       "  </tbody>\n",
       "</table>\n",
       "</div>"
      ],
      "text/plain": [
       "    win_count  frequency     prob  payout\n",
       "1           1          6  0.00006     -18\n",
       "2           2         22  0.00022     -16\n",
       "3           3        149  0.00149     -14\n",
       "4           4        645  0.00645     -12\n",
       "5           5       1898  0.01898     -10\n",
       "6           6       4345  0.04345      -8\n",
       "7           7       8691  0.08691      -6\n",
       "8           8      13267  0.13267      -4\n",
       "9           9      16825  0.16825      -2\n",
       "10         10      17335  0.17335       0\n",
       "11         11      15231  0.15231       2\n",
       "12         12      10753  0.10753       4\n",
       "13         13       6315  0.06315       6\n",
       "14         14       3008  0.03008       8\n",
       "15         15       1115  0.01115      10\n",
       "16         16        308  0.00308      12\n",
       "17         17         74  0.00074      14\n",
       "18         18         12  0.00012      16\n",
       "19         19          1  0.00001      18"
      ]
     },
     "metadata": {},
     "output_type": "display_data"
    },
    {
     "name": "stdout",
     "output_type": "stream",
     "text": [
      "expected win -0.5137\n"
     ]
    },
    {
     "data": {
      "image/png": "[encoded data removed]",
      "text/plain": [
       "<Figure size 500x300 with 1 Axes>"
      ]
     },
     "metadata": {},
     "output_type": "display_data"
    }
   ],
   "source": [
    "import pandas as pd\n",
    "import numpy as np\n",
    "import matplotlib.pyplot as plt\n",
    "import random\n",
    "\n",
    "nums = np.arange(0,37)\n",
    "random.choice(nums)\n",
    "\n",
    "game_wins = []\n",
    "days = 100000\n",
    "for day in range(days):\n",
    "\tday_wins = []\n",
    "\tfor game in range(20):\n",
    "\t\tball_num = random.choice(nums)\n",
    "\t\tif ball_num % 2 == 0:\n",
    "\t\t\tday_wins.append(0)\n",
    "\t\telse:\n",
    "\t\t\tday_wins.append(1)\n",
    "\tday_win_count = sum(day_wins)\n",
    "\tgame_wins.append(day_win_count)\n",
    "\t\n",
    "\n",
    "freqs = pd.Series(game_wins).value_counts()\n",
    "wdf = pd.DataFrame({\n",
    "\t'win_count': freqs.index,\n",
    "\t'frequency': freqs\n",
    "})\n",
    "\n",
    "wdf['prob'] = wdf['frequency'] / days\n",
    "wdf['payout'] = wdf['win_count'] - (20-wdf['win_count'])\n",
    "wdf = wdf.sort_values(by='win_count', ascending=True)\n",
    "\n",
    "\n",
    "plt.figure(figsize=(5,3))\n",
    "plt.bar(wdf['win_count'],wdf['prob'])\n",
    "\n",
    "display(wdf)\n",
    "print(\"expected win\", sum(wdf['payout']*wdf['prob']))\n",
    "\n",
    "plt.show()"
   ]
  },
  {
   "cell_type": "code",
   "execution_count": 99,
   "metadata": {},
   "outputs": [
    {
     "name": "stdout",
     "output_type": "stream",
     "text": [
      "0.5781167253290128\n"
     ]
    },
    {
     "data": {
      "image/png": "[encoded data removed]",
      "text/plain": [
       "<Figure size 500x300 with 1 Axes>"
      ]
     },
     "metadata": {},
     "output_type": "display_data"
    }
   ],
   "source": [
    "from scipy.stats import binom\n",
    "\n",
    "print(binom.pmf(0,20,1/37))\n",
    "# display(wdf)\n",
    "\n",
    "probs = []\n",
    "for win in range(21):\n",
    "\twin_prob = binom.pmf(win, 20, 1/37)\n",
    "\tprobs.append({\n",
    "\t\t'win_count': win,\n",
    "\t\t'win_prob': win_prob\n",
    "\t})\n",
    "\n",
    "win_df = pd.DataFrame(probs)\n",
    "win_df['win_prob'] = win_df['win_prob'].apply(lambda x: round(float(x), ndigits= 10))\n",
    "# display(win_df)\n",
    "\n",
    "plt.figure(figsize=(5,3))\n",
    "plt.bar(win_df['win_count'],win_df['win_prob'])\n",
    "\n",
    "plt.show()"
   ]
  },
  {
   "cell_type": "code",
   "execution_count": null,
   "metadata": {},
   "outputs": [
    {
     "name": "stdout",
     "output_type": "stream",
     "text": [
      "winning 0 times, your gain is -30\n",
      "winning 1 times, your gain is -21\n",
      "winning 2 times, your gain is -12\n",
      "winning 3 times, your gain is -3\n",
      "winning 4 times, your gain is 6\n",
      "winning 5 times, your gain is 15\n",
      "winning 6 times, your gain is 24\n",
      "winning 7 times, your gain is 33\n",
      "winning 8 times, your gain is 42\n",
      "winning 9 times, your gain is 51\n",
      "winning 10 times, your gain is 60\n",
      "winning 11 times, your gain is 69\n",
      "winning 12 times, your gain is 78\n",
      "winning 13 times, your gain is 87\n",
      "winning 14 times, your gain is 96\n",
      "winning 15 times, your gain is 105\n",
      "winning 16 times, your gain is 114\n",
      "winning 17 times, your gain is 123\n",
      "winning 18 times, your gain is 132\n",
      "winning 19 times, your gain is 141\n",
      "winning 20 times, your gain is 150\n",
      "winning 21 times, your gain is 159\n",
      "winning 22 times, your gain is 168\n",
      "winning 23 times, your gain is 177\n",
      "winning 24 times, your gain is 186\n",
      "winning 25 times, your gain is 195\n",
      "winning 26 times, your gain is 204\n",
      "winning 27 times, your gain is 213\n",
      "winning 28 times, your gain is 222\n",
      "winning 29 times, your gain is 231\n",
      "winning 30 times, your gain is 240\n"
     ]
    },
    {
     "data": {
      "text/plain": [
       "0.0864838869276668"
      ]
     },
     "execution_count": 110,
     "metadata": {},
     "output_type": "execute_result"
    }
   ],
   "source": [
    "for win in range(31):\n",
    "\twin_lose = win*8-(30-win)\n",
    "\tprint(f\"winning {win} times, your gain is {win_lose}\")\n",
    "\n"
   ]
  },
  {
   "cell_type": "code",
   "execution_count": null,
   "metadata": {},
   "outputs": [
    {
     "name": "stdout",
     "output_type": "stream",
     "text": [
      "[23 25 27 29 31 33 35 37 39 41 43 45 47 49 51]\n",
      "[0.0060301  0.01377571 0.02684463 0.04462265 0.06327139 0.07652683\n",
      " 0.07895403 0.06948469 0.05216248 0.0334027  0.01824564 0.00850141\n",
      " 0.00337891 0.00114556 0.00033129]\n"
     ]
    },
    {
     "data": {
      "image/png": "[encoded data removed]",
      "text/plain": [
       "<Figure size 500x300 with 1 Axes>"
      ]
     },
     "metadata": {},
     "output_type": "display_data"
    },
    {
     "data": {
      "text/plain": [
       "12.392236222709366"
      ]
     },
     "execution_count": 125,
     "metadata": {},
     "output_type": "execute_result"
    }
   ],
   "source": [
    "from scipy.stats import norm\n",
    "\n",
    "\n",
    "df = pd.read_csv(\"waist.csv\")\n",
    "df\n",
    "\n",
    "size_bins = np.arange(22, 51, 2)\n",
    "\n",
    "plt.figure(figsize=(5,3))\n",
    "plt.hist(df['waist'], bins=size_bins, edgecolor= \"k\", density=True)\n",
    "\n",
    "mean = df['waist'].mean()\n",
    "std = df['waist'].std(ddof=1)\n",
    "\n",
    "ys = size_bins+1\n",
    "print(ys)\n",
    "ys = norm.pdf(ys, mean, std)\n",
    "print(ys)\n",
    "plt.plot(size_bins+1, ys)\n",
    "plt.show()\n",
    "\n",
    "(norm.cdf(24, mean, std) - norm.cdf(22, mean, std))* 1000\n",
    "\n",
    "for wst in size_bins:\n",
    "\tprob = norm.cdf(wst+2, mean, std) - norm.cdf(wst, mean, std)\n",
    "\tcount = round(prob*1000)\n",
    "\tprint"
   ]
  }
 ],
 "metadata": {
  "kernelspec": {
   "display_name": "base",
   "language": "python",
   "name": "python3"
  },
  "language_info": {
   "codemirror_mode": {
    "name": "ipython",
    "version": 3
   },
   "file_extension": ".py",
   "mimetype": "text/x-python",
   "name": "python",
   "nbconvert_exporter": "python",
   "pygments_lexer": "ipython3",
   "version": "3.12.7"
  }
 },
 "nbformat": 4,
 "nbformat_minor": 2
}
